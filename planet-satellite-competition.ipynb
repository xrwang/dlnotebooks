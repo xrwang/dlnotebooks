{
 "cells": [
  {
   "cell_type": "code",
   "execution_count": 1,
   "metadata": {},
   "outputs": [],
   "source": [
    "%reload_ext autoreload\n",
    "%autoreload 2\n",
    "%matplotlib inline"
   ]
  },
  {
   "cell_type": "code",
   "execution_count": 2,
   "metadata": {},
   "outputs": [],
   "source": [
    "from fastai.conv_learner import *\n"
   ]
  },
  {
   "cell_type": "code",
   "execution_count": 3,
   "metadata": {},
   "outputs": [],
   "source": [
    "from fastai.imports import *\n",
    "from fastai.transforms import *\n",
    "from fastai.dataset import *\n",
    "from sklearn.metrics import fbeta_score\n",
    "import warnings\n",
    "\n",
    "def f2(preds, targs, start=0.17, end=0.24, step=0.01):\n",
    "    with warnings.catch_warnings():\n",
    "        warnings.simplefilter(\"ignore\")\n",
    "        return max([fbeta_score(targs, (preds>th), 2, average='samples')\n",
    "                    for th in np.arange(start,end,step)])\n",
    "\n",
    "def opt_th(preds, targs, start=0.17, end=0.24, step=0.01):\n",
    "    ths = np.arange(start,end,step)\n",
    "    idx = np.argmax([fbeta_score(targs, (preds>th), 2, average='samples')\n",
    "                for th in ths])\n",
    "    return ths[idx]\n"
   ]
  },
  {
   "cell_type": "code",
   "execution_count": 4,
   "metadata": {},
   "outputs": [],
   "source": [
    "PATH = 'data/planet/'"
   ]
  },
  {
   "cell_type": "code",
   "execution_count": 5,
   "metadata": {},
   "outputs": [
    {
     "name": "stdout",
     "output_type": "stream",
     "text": [
      "\u001b[0m\u001b[01;34m__MACOSX\u001b[0m/                     \u001b[01;31mtest-tif-v2.tar.7z\u001b[0m            \u001b[01;34mtrain-tif-v2\u001b[0m/\r\n",
      "\u001b[01;34mmodels\u001b[0m/                       test_v2_file_mapping.csv      \u001b[01;31mtrain-tif-v2.tar.7z\u001b[0m\r\n",
      "\u001b[01;31msample_submission_v2.csv.zip\u001b[0m  \u001b[01;31mtest_v2_file_mapping.csv.zip\u001b[0m  train_v2.csv\r\n",
      "\u001b[01;34mtest-jpg\u001b[0m/                     \u001b[01;34mtmp\u001b[0m/                          \u001b[01;31mtrain_v2.csv.zip\u001b[0m\r\n",
      "\u001b[01;31mtest-jpg-additional.tar.7z\u001b[0m    \u001b[01;34mtrain-jpg\u001b[0m/\r\n",
      "\u001b[01;31mtest-jpg.tar.7z\u001b[0m               \u001b[01;31mtrain-jpg.tar.7z\u001b[0m\r\n"
     ]
    }
   ],
   "source": [
    "ls {PATH}"
   ]
  },
  {
   "cell_type": "code",
   "execution_count": 6,
   "metadata": {},
   "outputs": [],
   "source": [
    "label_csv = f'{PATH}train_v2.csv'"
   ]
  },
  {
   "cell_type": "code",
   "execution_count": 7,
   "metadata": {},
   "outputs": [],
   "source": [
    "label_df = pd.read_csv(label_csv)"
   ]
  },
  {
   "cell_type": "code",
   "execution_count": 8,
   "metadata": {},
   "outputs": [
    {
     "data": {
      "text/html": [
       "<div>\n",
       "<style scoped>\n",
       "    .dataframe tbody tr th:only-of-type {\n",
       "        vertical-align: middle;\n",
       "    }\n",
       "\n",
       "    .dataframe tbody tr th {\n",
       "        vertical-align: top;\n",
       "    }\n",
       "\n",
       "    .dataframe thead th {\n",
       "        text-align: right;\n",
       "    }\n",
       "</style>\n",
       "<table border=\"1\" class=\"dataframe\">\n",
       "  <thead>\n",
       "    <tr style=\"text-align: right;\">\n",
       "      <th></th>\n",
       "      <th>image_name</th>\n",
       "      <th>tags</th>\n",
       "    </tr>\n",
       "  </thead>\n",
       "  <tbody>\n",
       "    <tr>\n",
       "      <th>0</th>\n",
       "      <td>train_0</td>\n",
       "      <td>haze primary</td>\n",
       "    </tr>\n",
       "    <tr>\n",
       "      <th>1</th>\n",
       "      <td>train_1</td>\n",
       "      <td>agriculture clear primary water</td>\n",
       "    </tr>\n",
       "    <tr>\n",
       "      <th>2</th>\n",
       "      <td>train_2</td>\n",
       "      <td>clear primary</td>\n",
       "    </tr>\n",
       "    <tr>\n",
       "      <th>3</th>\n",
       "      <td>train_3</td>\n",
       "      <td>clear primary</td>\n",
       "    </tr>\n",
       "    <tr>\n",
       "      <th>4</th>\n",
       "      <td>train_4</td>\n",
       "      <td>agriculture clear habitation primary road</td>\n",
       "    </tr>\n",
       "  </tbody>\n",
       "</table>\n",
       "</div>"
      ],
      "text/plain": [
       "  image_name                                       tags\n",
       "0    train_0                               haze primary\n",
       "1    train_1            agriculture clear primary water\n",
       "2    train_2                              clear primary\n",
       "3    train_3                              clear primary\n",
       "4    train_4  agriculture clear habitation primary road"
      ]
     },
     "execution_count": 8,
     "metadata": {},
     "output_type": "execute_result"
    }
   ],
   "source": [
    "label_df.head()"
   ]
  },
  {
   "cell_type": "code",
   "execution_count": 9,
   "metadata": {},
   "outputs": [],
   "source": [
    "metrics=[f2]"
   ]
  },
  {
   "cell_type": "code",
   "execution_count": 10,
   "metadata": {},
   "outputs": [],
   "source": [
    "n = len(list(open(label_csv)))-1"
   ]
  },
  {
   "cell_type": "code",
   "execution_count": 11,
   "metadata": {},
   "outputs": [],
   "source": [
    "val_idxs = get_cv_idxs(n)"
   ]
  },
  {
   "cell_type": "code",
   "execution_count": 12,
   "metadata": {},
   "outputs": [
    {
     "data": {
      "text/plain": [
       "<function fastai.dataset.get_cv_idxs>"
      ]
     },
     "execution_count": 12,
     "metadata": {},
     "output_type": "execute_result"
    }
   ],
   "source": [
    "get_cv_idxs"
   ]
  },
  {
   "cell_type": "code",
   "execution_count": 13,
   "metadata": {},
   "outputs": [],
   "source": [
    "f_model = resnet34"
   ]
  },
  {
   "cell_type": "code",
   "execution_count": 14,
   "metadata": {},
   "outputs": [],
   "source": [
    "#create a get data function that allows you to pass in a size\n",
    "def get_data(sz):\n",
    "    tfms = tfms_from_model(f_model, sz, aug_tfms=transforms_top_down, max_zoom=1.05)\n",
    "    return ImageClassifierData.from_csv(PATH,'train-jpg', label_csv, tfms=tfms,\n",
    "                    suffix='.jpg', val_idxs=val_idxs, test_name='test-jpg')"
   ]
  },
  {
   "cell_type": "code",
   "execution_count": 15,
   "metadata": {},
   "outputs": [],
   "source": [
    "data = get_data(256)"
   ]
  },
  {
   "cell_type": "code",
   "execution_count": 16,
   "metadata": {},
   "outputs": [
    {
     "data": {
      "text/plain": [
       "<fastai.dataset.ModelDataLoader at 0x7f61df6019e8>"
      ]
     },
     "execution_count": 16,
     "metadata": {},
     "output_type": "execute_result"
    }
   ],
   "source": [
    "iter(data.val_dl)"
   ]
  },
  {
   "cell_type": "code",
   "execution_count": 17,
   "metadata": {},
   "outputs": [],
   "source": [
    "x,y = next(iter(data.val_dl))"
   ]
  },
  {
   "cell_type": "code",
   "execution_count": 18,
   "metadata": {},
   "outputs": [
    {
     "data": {
      "text/plain": [
       "\n",
       "    1     0     0  ...      0     0     1\n",
       "    0     0     0  ...      0     0     0\n",
       "    1     0     0  ...      0     0     0\n",
       "       ...          ⋱          ...       \n",
       "    1     0     0  ...      0     0     1\n",
       "    0     0     0  ...      0     0     0\n",
       "    0     0     0  ...      0     0     1\n",
       "[torch.FloatTensor of size 64x17]"
      ]
     },
     "execution_count": 18,
     "metadata": {},
     "output_type": "execute_result"
    }
   ],
   "source": [
    "y"
   ]
  },
  {
   "cell_type": "code",
   "execution_count": 19,
   "metadata": {},
   "outputs": [
    {
     "data": {
      "text/plain": [
       "['agriculture',\n",
       " 'artisinal_mine',\n",
       " 'bare_ground',\n",
       " 'blooming',\n",
       " 'blow_down',\n",
       " 'clear',\n",
       " 'cloudy',\n",
       " 'conventional_mine',\n",
       " 'cultivation',\n",
       " 'habitation',\n",
       " 'haze',\n",
       " 'partly_cloudy',\n",
       " 'primary',\n",
       " 'road',\n",
       " 'selective_logging',\n",
       " 'slash_burn',\n",
       " 'water']"
      ]
     },
     "execution_count": 19,
     "metadata": {},
     "output_type": "execute_result"
    }
   ],
   "source": [
    "data.classes"
   ]
  },
  {
   "cell_type": "code",
   "execution_count": 20,
   "metadata": {},
   "outputs": [
    {
     "data": {
      "text/plain": [
       "\n",
       " 1\n",
       " 0\n",
       " 0\n",
       " 0\n",
       " 0\n",
       " 1\n",
       " 0\n",
       " 0\n",
       " 0\n",
       " 0\n",
       " 0\n",
       " 0\n",
       " 1\n",
       " 0\n",
       " 0\n",
       " 0\n",
       " 1\n",
       "[torch.FloatTensor of size 17]"
      ]
     },
     "execution_count": 20,
     "metadata": {},
     "output_type": "execute_result"
    }
   ],
   "source": [
    "y[0]"
   ]
  },
  {
   "cell_type": "code",
   "execution_count": 21,
   "metadata": {},
   "outputs": [
    {
     "data": {
      "text/plain": [
       "[('agriculture', 1.0),\n",
       " ('artisinal_mine', 0.0),\n",
       " ('bare_ground', 0.0),\n",
       " ('blooming', 0.0),\n",
       " ('blow_down', 0.0),\n",
       " ('clear', 1.0),\n",
       " ('cloudy', 0.0),\n",
       " ('conventional_mine', 0.0),\n",
       " ('cultivation', 0.0),\n",
       " ('habitation', 0.0),\n",
       " ('haze', 0.0),\n",
       " ('partly_cloudy', 0.0),\n",
       " ('primary', 1.0),\n",
       " ('road', 0.0),\n",
       " ('selective_logging', 0.0),\n",
       " ('slash_burn', 0.0),\n",
       " ('water', 1.0)]"
      ]
     },
     "execution_count": 21,
     "metadata": {},
     "output_type": "execute_result"
    }
   ],
   "source": [
    "list(zip(data.classes,y[0]))"
   ]
  },
  {
   "cell_type": "code",
   "execution_count": 22,
   "metadata": {},
   "outputs": [
    {
     "data": {
      "image/png": "[encoded data removed]",
      "text/plain": [
       "<matplotlib.figure.Figure at 0x7f61de0784a8>"
      ]
     },
     "metadata": {},
     "output_type": "display_data"
    }
   ],
   "source": [
    "plt.imshow(data.val_ds.denorm(to_np(x))[0]);"
   ]
  },
  {
   "cell_type": "code",
   "execution_count": 23,
   "metadata": {},
   "outputs": [],
   "source": [
    "sz=64"
   ]
  },
  {
   "cell_type": "code",
   "execution_count": 24,
   "metadata": {},
   "outputs": [],
   "source": [
    "data = get_data(sz)"
   ]
  },
  {
   "cell_type": "code",
   "execution_count": 25,
   "metadata": {},
   "outputs": [
    {
     "data": {
      "application/vnd.jupyter.widget-view+json": {
       "model_id": "ea19fd2ef03246d9b96041ca8d13a61b",
       "version_major": 2,
       "version_minor": 0
      },
      "text/plain": [
       "A Jupyter Widget"
      ]
     },
     "metadata": {},
     "output_type": "display_data"
    },
    {
     "name": "stdout",
     "output_type": "stream",
     "text": [
      "\n"
     ]
    }
   ],
   "source": [
    "data = data.resize(int(sz*1.4),'tmp')"
   ]
  },
  {
   "cell_type": "code",
   "execution_count": 26,
   "metadata": {},
   "outputs": [],
   "source": [
    "learn = ConvLearner.pretrained(f_model, data, metrics=metrics)"
   ]
  },
  {
   "cell_type": "code",
   "execution_count": 27,
   "metadata": {},
   "outputs": [
    {
     "data": {
      "application/vnd.jupyter.widget-view+json": {
       "model_id": "aae4548437344803a98eef0ff45f58e7",
       "version_major": 2,
       "version_minor": 0
      },
      "text/plain": [
       "A Jupyter Widget"
      ]
     },
     "metadata": {},
     "output_type": "display_data"
    },
    {
     "name": "stdout",
     "output_type": "stream",
     "text": [
      "[ 0.       0.21473  0.33852  0.80459]                        \n",
      "\n"
     ]
    }
   ],
   "source": [
    "lrf = learn.lr_find()"
   ]
  },
  {
   "cell_type": "code",
   "execution_count": 28,
   "metadata": {},
   "outputs": [
    {
     "data": {
      "image/png": "[encoded data removed]",
      "text/plain": [
       "<matplotlib.figure.Figure at 0x7f61dd9f1358>"
      ]
     },
     "metadata": {},
     "output_type": "display_data"
    }
   ],
   "source": [
    "learn.sched.plot()"
   ]
  },
  {
   "cell_type": "code",
   "execution_count": 29,
   "metadata": {},
   "outputs": [],
   "source": [
    "lr = 0.2"
   ]
  },
  {
   "cell_type": "code",
   "execution_count": 30,
   "metadata": {},
   "outputs": [
    {
     "data": {
      "application/vnd.jupyter.widget-view+json": {
       "model_id": "19072ca8ec5e4c208d2fa49a869e16a3",
       "version_major": 2,
       "version_minor": 0
      },
      "text/plain": [
       "A Jupyter Widget"
      ]
     },
     "metadata": {},
     "output_type": "display_data"
    },
    {
     "name": "stdout",
     "output_type": "stream",
     "text": [
      "[ 0.       0.1459   0.13563  0.87816]                        \n",
      "[ 1.       0.13794  0.12969  0.88572]                        \n",
      "[ 2.       0.13493  0.12834  0.88633]                        \n",
      "[ 3.       0.13513  0.12874  0.8857 ]                        \n",
      "[ 4.       0.13428  0.12574  0.88964]                        \n",
      "[ 5.       0.1299   0.12442  0.89009]                        \n",
      "[ 6.       0.1299   0.12417  0.89104]                        \n",
      "[ 7.       0.13184  0.12583  0.88947]                        \n",
      "[ 8.       0.1343   0.12405  0.89068]                        \n",
      "[ 9.       0.12923  0.12397  0.89169]                        \n",
      "[ 10.        0.12826   0.12286   0.89235]                    \n",
      "[ 11.        0.12302   0.1218    0.89302]                    \n",
      "[ 12.        0.1292    0.1225    0.89191]                    \n",
      "[ 13.        0.12771   0.12152   0.89329]                    \n",
      "[ 14.        0.12549   0.12233   0.89176]                    \n",
      "\n"
     ]
    }
   ],
   "source": [
    "learn.fit(lr,4, cycle_len=1, cycle_mult=2)"
   ]
  },
  {
   "cell_type": "code",
   "execution_count": 32,
   "metadata": {},
   "outputs": [],
   "source": [
    "lrs = np.array([lr/10,lr/3,lr])"
   ]
  },
  {
   "cell_type": "code",
   "execution_count": 33,
   "metadata": {},
   "outputs": [],
   "source": [
    "learn.unfreeze()"
   ]
  },
  {
   "cell_type": "code",
   "execution_count": 34,
   "metadata": {},
   "outputs": [
    {
     "data": {
      "application/vnd.jupyter.widget-view+json": {
       "model_id": "572ed86fb8fc45bdba88084e504f0d67",
       "version_major": 2,
       "version_minor": 0
      },
      "text/plain": [
       "A Jupyter Widget"
      ]
     },
     "metadata": {},
     "output_type": "display_data"
    },
    {
     "name": "stdout",
     "output_type": "stream",
     "text": [
      "[ 0.       0.11672  0.11265  0.9023 ]                        \n",
      "[ 1.       0.11175  0.10783  0.90664]                        \n",
      "[ 2.       0.1039   0.1043   0.90971]                        \n",
      "[ 3.       0.10966  0.10985  0.90459]                        \n",
      "[ 4.       0.10544  0.10398  0.91074]                        \n",
      "[ 5.       0.10049  0.09948  0.91528]                         \n",
      "[ 6.       0.09705  0.10163  0.91401]                         \n",
      "\n"
     ]
    }
   ],
   "source": [
    "learn.fit(lrs,3,cycle_len=1,cycle_mult=2)"
   ]
  },
  {
   "cell_type": "code",
   "execution_count": 36,
   "metadata": {},
   "outputs": [],
   "source": [
    "learn.save(f'{sz}')"
   ]
  },
  {
   "cell_type": "code",
   "execution_count": 38,
   "metadata": {},
   "outputs": [
    {
     "data": {
      "image/png": "[encoded data removed]",
      "text/plain": [
       "<matplotlib.figure.Figure at 0x7f61dd289198>"
      ]
     },
     "metadata": {},
     "output_type": "display_data"
    }
   ],
   "source": [
    "learn.sched.plot_loss()"
   ]
  },
  {
   "cell_type": "code",
   "execution_count": 40,
   "metadata": {},
   "outputs": [],
   "source": [
    "sz=128"
   ]
  },
  {
   "cell_type": "code",
   "execution_count": 41,
   "metadata": {},
   "outputs": [],
   "source": [
    "learn.set_data(get_data(sz))"
   ]
  },
  {
   "cell_type": "code",
   "execution_count": 45,
   "metadata": {},
   "outputs": [],
   "source": [
    "learn.freeze()"
   ]
  },
  {
   "cell_type": "code",
   "execution_count": 46,
   "metadata": {},
   "outputs": [
    {
     "data": {
      "application/vnd.jupyter.widget-view+json": {
       "model_id": "59d8fef16f5347f2b96e1f77df2c2dce",
       "version_major": 2,
       "version_minor": 0
      },
      "text/plain": [
       "A Jupyter Widget"
      ]
     },
     "metadata": {},
     "output_type": "display_data"
    },
    {
     "name": "stdout",
     "output_type": "stream",
     "text": [
      "[ 0.       0.09702  0.09873  0.91487]                         \n",
      "[ 1.       0.09789  0.09776  0.91579]                         \n",
      "[ 2.       0.09694  0.09719  0.91654]                         \n",
      "[ 3.       0.09565  0.09558  0.91816]                         \n",
      "[ 4.       0.09531  0.09537  0.91804]                         \n",
      "[ 5.       0.09656  0.09614  0.91672]                         \n",
      "[ 6.       0.09195  0.09452  0.91892]                         \n",
      "\n"
     ]
    }
   ],
   "source": [
    "learn.fit(lr,3,cycle_len=1,cycle_mult=2)"
   ]
  },
  {
   "cell_type": "code",
   "execution_count": 51,
   "metadata": {},
   "outputs": [],
   "source": [
    "learn.save(f'{sz}')"
   ]
  },
  {
   "cell_type": "code",
   "execution_count": 53,
   "metadata": {},
   "outputs": [
    {
     "data": {
      "application/vnd.jupyter.widget-view+json": {
       "model_id": "3d7faeb57f084c96881c3ef1e0051aad",
       "version_major": 2,
       "version_minor": 0
      },
      "text/plain": [
       "A Jupyter Widget"
      ]
     },
     "metadata": {},
     "output_type": "display_data"
    },
    {
     "name": "stdout",
     "output_type": "stream",
     "text": [
      "[ 0.       0.09543  0.09542  0.91724]                         \n",
      "[ 1.       0.09421  0.09545  0.91774]                         \n",
      "[ 2.      0.0913  0.0946  0.9183]                             \n",
      "[ 3.       0.09513  0.09511  0.91798]                         \n",
      "[ 4.       0.09064  0.09424  0.91881]                         \n",
      "[ 5.       0.09179  0.09426  0.91856]                         \n",
      "[ 6.       0.09263  0.09528  0.91777]                         \n",
      "\n"
     ]
    }
   ],
   "source": [
    "lrs = np.array([lr/9,lr/3,lr])\n",
    "learn.fit(lrs,3,cycle_len=1,cycle_mult=2)"
   ]
  },
  {
   "cell_type": "code",
   "execution_count": 54,
   "metadata": {},
   "outputs": [],
   "source": [
    "learn.save(f'{sz}')"
   ]
  },
  {
   "cell_type": "code",
   "execution_count": 55,
   "metadata": {},
   "outputs": [],
   "source": [
    "sz=256"
   ]
  },
  {
   "cell_type": "code",
   "execution_count": 56,
   "metadata": {},
   "outputs": [],
   "source": [
    "learn.set_data(get_data(sz))"
   ]
  },
  {
   "cell_type": "code",
   "execution_count": 58,
   "metadata": {},
   "outputs": [],
   "source": [
    "learn.freeze()"
   ]
  },
  {
   "cell_type": "code",
   "execution_count": 59,
   "metadata": {},
   "outputs": [
    {
     "data": {
      "application/vnd.jupyter.widget-view+json": {
       "model_id": "f3bca888ea27436dab68e9ac5c7a7b62",
       "version_major": 2,
       "version_minor": 0
      },
      "text/plain": [
       "A Jupyter Widget"
      ]
     },
     "metadata": {},
     "output_type": "display_data"
    },
    {
     "name": "stdout",
     "output_type": "stream",
     "text": [
      "[ 0.       0.10448  0.1044   0.90859]                        \n",
      "[ 1.       0.1024   0.1008   0.91298]                         \n",
      "[ 2.       0.10272  0.10132  0.91156]                         \n",
      "[ 3.       0.10147  0.10074  0.91281]                         \n",
      "[ 4.       0.09946  0.09987  0.91348]                         \n",
      "[ 5.       0.0975   0.09979  0.91361]                         \n",
      "[ 6.       0.09778  0.09851  0.91478]                         \n",
      "\n"
     ]
    }
   ],
   "source": [
    "learn.fit(lr,3,cycle_len=1,cycle_mult=2)"
   ]
  },
  {
   "cell_type": "code",
   "execution_count": null,
   "metadata": {},
   "outputs": [
    {
     "data": {
      "application/vnd.jupyter.widget-view+json": {
       "model_id": "625a28b3662942f694220f7dead0f9e0",
       "version_major": 2,
       "version_minor": 0
      },
      "text/plain": [
       "A Jupyter Widget"
      ]
     },
     "metadata": {},
     "output_type": "display_data"
    },
    {
     "name": "stdout",
     "output_type": "stream",
     "text": [
      "[ 0.       0.09115  0.09002  0.92308]                         \n",
      " 84%|████████▎ | 423/506 [12:34<02:28,  1.78s/it, loss=0.0908]"
     ]
    }
   ],
   "source": [
    "learn.unfreeze()\n",
    "learn.fit(lrs, 3, cycle_len=1, cycle_mult=2)\n",
    "learn.save(f'{sz}')"
   ]
  },
  {
   "cell_type": "code",
   "execution_count": null,
   "metadata": {},
   "outputs": [],
   "source": [
    "log_preds,y = learn.TTA()\n",
    "preds = np.mean(np.exp(log_preds),0)"
   ]
  }
 ],
 "metadata": {
  "kernelspec": {
   "display_name": "Python 3",
   "language": "python",
   "name": "python3"
  },
  "language_info": {
   "codemirror_mode": {
    "name": "ipython",
    "version": 3
   },
   "file_extension": ".py",
   "mimetype": "text/x-python",
   "name": "python",
   "nbconvert_exporter": "python",
   "pygments_lexer": "ipython3",
   "version": "3.6.3"
  }
 },
 "nbformat": 4,
 "nbformat_minor": 2
}
